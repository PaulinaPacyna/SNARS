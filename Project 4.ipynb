{
 "cells": [
  {
   "cell_type": "code",
   "execution_count": 1,
   "metadata": {},
   "outputs": [],
   "source": [
    "import networkx as nx\n",
    "import numpy as np\n",
    "import pandas as pd\n",
    "import matplotlib.pyplot as plt"
   ]
  },
  {
   "cell_type": "markdown",
   "metadata": {},
   "source": [
    "# 1.1"
   ]
  },
  {
   "cell_type": "markdown",
   "metadata": {},
   "source": [
    "Import the data, draw their histogram"
   ]
  },
  {
   "cell_type": "code",
   "execution_count": 2,
   "metadata": {},
   "outputs": [
    {
     "data": {
      "text/plain": [
       "(array([8.432e+03, 8.940e+02, 3.090e+02, 1.700e+02, 7.500e+01, 4.300e+01,\n",
       "        2.500e+01, 2.400e+01, 2.100e+01, 7.000e+00]),\n",
       " array([ 100. ,  262.6,  425.2,  587.8,  750.4,  913. , 1075.6, 1238.2,\n",
       "        1400.8, 1563.4, 1726. ]),\n",
       " <BarContainer object of 10 artists>)"
      ]
     },
     "execution_count": 2,
     "metadata": {},
     "output_type": "execute_result"
    },
    {
     "data": {
      "image/png": "[encoded data removed]",
      "text/plain": [
       "<Figure size 432x288 with 1 Axes>"
      ]
     },
     "metadata": {
      "needs_background": "light"
     },
     "output_type": "display_data"
    }
   ],
   "source": [
    "obs = list(dict(nx.generators.barabasi_albert_graph(10000, 100).degree).values())\n",
    "plt.hist(obs)"
   ]
  },
  {
   "cell_type": "markdown",
   "metadata": {},
   "source": [
    "# 1.2"
   ]
  },
  {
   "cell_type": "markdown",
   "metadata": {},
   "source": [
    "Correct the scale of the plot’s axes to double logarithmic"
   ]
  },
  {
   "cell_type": "code",
   "execution_count": 3,
   "metadata": {},
   "outputs": [
    {
     "data": {
      "image/png": "[encoded data removed]",
      "text/plain": [
       "<Figure size 432x288 with 1 Axes>"
      ]
     },
     "metadata": {
      "needs_background": "light"
     },
     "output_type": "display_data"
    }
   ],
   "source": [
    "plt.hist(obs)\n",
    "plt.yscale('log')\n",
    "plt.xscale('log')"
   ]
  },
  {
   "cell_type": "markdown",
   "metadata": {},
   "source": [
    "# 1.3"
   ]
  },
  {
   "cell_type": "markdown",
   "metadata": {},
   "source": [
    "Apply logarithmic binning as well"
   ]
  },
  {
   "cell_type": "code",
   "execution_count": 4,
   "metadata": {},
   "outputs": [
    {
     "data": {
      "image/png": "[encoded data removed]",
      "text/plain": [
       "<Figure size 432x288 with 1 Axes>"
      ]
     },
     "metadata": {
      "needs_background": "light"
     },
     "output_type": "display_data"
    }
   ],
   "source": [
    "loglog_hist =plt.hist(obs, bins=np.exp(np.linspace(np.log(min(obs)), np.log(max(obs)), 20)))\n",
    "plt.yscale('log')\n",
    "plt.xscale('log')"
   ]
  },
  {
   "cell_type": "markdown",
   "metadata": {},
   "source": [
    "# 1.4"
   ]
  },
  {
   "cell_type": "markdown",
   "metadata": {},
   "source": [
    "Compute and draw the survival function"
   ]
  },
  {
   "cell_type": "code",
   "execution_count": 5,
   "metadata": {},
   "outputs": [
    {
     "data": {
      "text/plain": [
       "[<matplotlib.lines.Line2D at 0x24dbb35de50>]"
      ]
     },
     "execution_count": 5,
     "metadata": {},
     "output_type": "execute_result"
    },
    {
     "data": {
      "image/png": "[encoded data removed]",
      "text/plain": [
       "<Figure size 432x288 with 1 Axes>"
      ]
     },
     "metadata": {
      "needs_background": "light"
     },
     "output_type": "display_data"
    }
   ],
   "source": [
    "def survival(x: float, obs=obs) -> float:\n",
    "    cdf = len(list(filter(lambda v: v<x, obs)))/len(obs) # nr of observations less than x/nr of observations\n",
    "    return 1-cdf\n",
    "x_to_plot=np.unique(obs)\n",
    "y_to_plot=[survival(x) for x in x_to_plot]\n",
    "plt.plot(x_to_plot, y_to_plot)"
   ]
  },
  {
   "cell_type": "markdown",
   "metadata": {},
   "source": [
    "# 1.5"
   ]
  },
  {
   "cell_type": "markdown",
   "metadata": {},
   "source": [
    "Which chart is the most readable? Which is most robust for the noise?"
   ]
  },
  {
   "cell_type": "markdown",
   "metadata": {},
   "source": [
    "## 1.6"
   ]
  },
  {
   "cell_type": "code",
   "execution_count": 6,
   "metadata": {},
   "outputs": [
    {
     "data": {
      "text/plain": [
       "(array([[-0.98297144]]), array([1078.6519461]))"
      ]
     },
     "execution_count": 6,
     "metadata": {},
     "output_type": "execute_result"
    }
   ],
   "source": [
    "from sklearn.linear_model import LinearRegression\n",
    "log_y = loglog_hist[0].reshape(-1,1)\n",
    "log_x = np.array([(a+b)/2 for a,b in zip(loglog_hist[1][:-1], loglog_hist[1][1:], )]).reshape(-1,1) # middles of the intervals\n",
    "model = LinearRegression(fit_intercept=True).fit(log_x, log_y)\n",
    "model.coef_, model.intercept_"
   ]
  },
  {
   "cell_type": "markdown",
   "metadata": {},
   "source": [
    "$$\n",
    "\\alpha = -1.06\\\\\n",
    "\\beta = 1089\\\\\n",
    "log(y) = \\alpha log(x) +\\beta\\\\\n",
    "y = e^\\beta x^\\alpha \\\\\n",
    "\\therefore y \\sim C\\frac{1}{x}$$"
   ]
  },
  {
   "cell_type": "markdown",
   "metadata": {},
   "source": [
    "# 1.7"
   ]
  },
  {
   "cell_type": "markdown",
   "metadata": {},
   "source": [
    "$$ \n",
    "L(x; \\alpha ) = \\prod_{i=1}^n \\big [ \\frac{\\alpha-1}{x_{min}}(\\frac{x_i}{x_{min}})^{-a} \\big ]\\\\\n",
    "\\log L(x; \\alpha ) = n\\log(\\alpha-1) - (\\alpha+1)\\log(x_{min}) -\\alpha\\sum_{i=1}^n log(x_i)\n",
    "$$\n"
   ]
  },
  {
   "cell_type": "markdown",
   "metadata": {},
   "source": [
    "$$\n",
    "\\frac{d}{d\\alpha} \\log L(x; \\alpha ) = \\frac{n}{\\alpha-1} - log(x_{min}) - \\sum_{i=1}^n log(x_i) \\\\\n",
    "\\frac{d}{d\\alpha} \\log L(x; \\alpha ) = 0 \\Leftrightarrow \\alpha = 1 + \\frac{n} { log(x_{min}) + \\sum_{i=1}^n log(x_i)}\n",
    "$$"
   ]
  },
  {
   "cell_type": "code",
   "execution_count": 7,
   "metadata": {},
   "outputs": [
    {
     "data": {
      "text/plain": [
       "1.1953781118220035"
      ]
     },
     "execution_count": 7,
     "metadata": {},
     "output_type": "execute_result"
    }
   ],
   "source": [
    "def mle(obs):\n",
    "    x_min = min(obs)\n",
    "    return 1+ len(obs)/(np.log(x_min) + sum(np.log(obs)))\n",
    "mle(obs)"
   ]
  },
  {
   "cell_type": "markdown",
   "metadata": {},
   "source": [
    "# 4.3"
   ]
  },
  {
   "cell_type": "code",
   "execution_count": 8,
   "metadata": {},
   "outputs": [],
   "source": [
    "def avg_degree(G: nx.Graph, k: int) -> float:\n",
    "    dg =  dict(G.degree)\n",
    "    k_nodes = [n for n, v in dg.items() if v==k] \n",
    "    averages = list(sum(dg[i] for i in G.neighbors(node))/k\n",
    "            for node in k_nodes) ## list of Average degree of the nearest node for each node of degree k \n",
    "    return np.mean(averages)"
   ]
  },
  {
   "cell_type": "code",
   "execution_count": 9,
   "metadata": {},
   "outputs": [
    {
     "data": {
      "text/plain": [
       "(0.0, 265.8589147286822)"
      ]
     },
     "execution_count": 9,
     "metadata": {},
     "output_type": "execute_result"
    },
    {
     "data": {
      "image/png": "[encoded data removed]",
      "text/plain": [
       "<Figure size 432x288 with 1 Axes>"
      ]
     },
     "metadata": {
      "needs_background": "light"
     },
     "output_type": "display_data"
    }
   ],
   "source": [
    "G = nx.generators.barabasi_albert_graph(1000, 100)\n",
    "X = np.unique(list(dict(G.degree).values()))\n",
    "Y = list(map(lambda x: avg_degree(G, x), X))\n",
    "plt.plot(X, Y)\n",
    "plt.ylim(0, max(Y)*1.1)"
   ]
  },
  {
   "cell_type": "markdown",
   "metadata": {},
   "source": [
    "# 4.4"
   ]
  },
  {
   "cell_type": "code",
   "execution_count": 10,
   "metadata": {},
   "outputs": [
    {
     "data": {
      "text/plain": [
       "(0.0, 260.01800000000003)"
      ]
     },
     "execution_count": 10,
     "metadata": {},
     "output_type": "execute_result"
    },
    {
     "data": {
      "image/png": "[encoded data removed]",
      "text/plain": [
       "<Figure size 432x288 with 1 Axes>"
      ]
     },
     "metadata": {
      "needs_background": "light"
     },
     "output_type": "display_data"
    }
   ],
   "source": [
    "G = nx.algorithms.swap.double_edge_swap(G, nswap=len(G.edges)//1.3, max_tries=len(G.edges)*2)\n",
    "X = np.unique(list(dict(G.degree).values()))\n",
    "Y = list(map(lambda x: avg_degree(G, x), X))\n",
    "plt.plot(X, Y)\n",
    "plt.ylim(0, max(Y)*1.1)"
   ]
  },
  {
   "cell_type": "markdown",
   "metadata": {},
   "source": [
    "## 5"
   ]
  },
  {
   "cell_type": "code",
   "execution_count": 11,
   "metadata": {},
   "outputs": [
    {
     "data": {
      "text/html": [
       "<div>\n",
       "<style scoped>\n",
       "    .dataframe tbody tr th:only-of-type {\n",
       "        vertical-align: middle;\n",
       "    }\n",
       "\n",
       "    .dataframe tbody tr th {\n",
       "        vertical-align: top;\n",
       "    }\n",
       "\n",
       "    .dataframe thead th {\n",
       "        text-align: right;\n",
       "    }\n",
       "</style>\n",
       "<table border=\"1\" class=\"dataframe\">\n",
       "  <thead>\n",
       "    <tr style=\"text-align: right;\">\n",
       "      <th></th>\n",
       "      <th>name</th>\n",
       "      <th>directed</th>\n",
       "      <th>N</th>\n",
       "      <th>E</th>\n",
       "      <th>&lt;k&gt;</th>\n",
       "      <th>a</th>\n",
       "      <th>l</th>\n",
       "      <th>r</th>\n",
       "    </tr>\n",
       "  </thead>\n",
       "  <tbody>\n",
       "    <tr>\n",
       "      <th>0</th>\n",
       "      <td></td>\n",
       "      <td>False</td>\n",
       "      <td>10000</td>\n",
       "      <td>990000</td>\n",
       "      <td>198.0</td>\n",
       "      <td>1.195352</td>\n",
       "      <td>2.016103</td>\n",
       "      <td>0.007675</td>\n",
       "    </tr>\n",
       "  </tbody>\n",
       "</table>\n",
       "</div>"
      ],
      "text/plain": [
       "  name  directed      N       E    <k>         a         l         r\n",
       "0          False  10000  990000  198.0  1.195352  2.016103  0.007675"
      ]
     },
     "execution_count": 11,
     "metadata": {},
     "output_type": "execute_result"
    }
   ],
   "source": [
    "def summary(G : nx.graph, name='', directed=False) -> dict:\n",
    "    degrees = list(dict(G.degree).values())\n",
    "    return {\n",
    "        'name': name,\n",
    "        'directed': directed,\n",
    "        'N' : len(G.nodes),\n",
    "        'E' : len(G.edges),\n",
    "        '<k>': np.mean(degrees),\n",
    "        'a': mle(degrees),\n",
    "        'l': nx.average_shortest_path_length(G),\n",
    "        'r': nx.degree_pearson_correlation_coefficient(G)\n",
    "    }\n",
    "pd.DataFrame([summary(nx.generators.barabasi_albert_graph(10000, 100))])"
   ]
  },
  {
   "cell_type": "code",
   "execution_count": null,
   "metadata": {},
   "outputs": [],
   "source": []
  }
 ],
 "metadata": {
  "kernelspec": {
   "display_name": "AML_log_regression_optimization",
   "language": "python",
   "name": "aml_log_regression_optimization"
  },
  "language_info": {
   "codemirror_mode": {
    "name": "ipython",
    "version": 3
   },
   "file_extension": ".py",
   "mimetype": "text/x-python",
   "name": "python",
   "nbconvert_exporter": "python",
   "pygments_lexer": "ipython3",
   "version": "3.8.8"
  }
 },
 "nbformat": 4,
 "nbformat_minor": 4
}
