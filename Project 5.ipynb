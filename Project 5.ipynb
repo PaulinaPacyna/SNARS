{
 "cells": [
  {
   "cell_type": "code",
   "execution_count": 1,
   "metadata": {},
   "outputs": [],
   "source": [
    "import numpy as np\n",
    "import pandas as pd\n",
    "import matplotlib.pyplot as plt\n",
    "from scipy.stats import powerlaw\n",
    "import networkx as nx"
   ]
  },
  {
   "cell_type": "markdown",
   "metadata": {},
   "source": [
    "## 5.1"
   ]
  },
  {
   "cell_type": "markdown",
   "metadata": {},
   "source": [
    "Let's denote $\\langle k \\rangle$ by $\\eta$\n",
    "\n",
    "Since $P(k) = \\frac{e^\\eta \\eta^k}{k!}$ is a probability function, we know that $\\sum_{k=0}^\\infty \\frac{e^\\eta \\eta^k}{k!} = \\sum_{k=0}^\\infty P(k) =1$\n",
    "\n",
    "$$ E(k) = \\sum_{k=0}^\\infty k P(k) = \\sum_{k=0}^\\infty \\frac{ke^\\eta \\eta^k}{k!} = 0 + \\sum_{k=1}^\\infty \\frac{ke^\\eta \\eta^k}{k!} = \\sum_{k=1}^\\infty \\frac{e^\\eta \\eta^k}{(k-1)!} =\\eta \\sum_{k=1}^\\infty \\frac{e^\\eta \\eta^{k-1}}{(k-1)!} =\\eta \\sum_{k=0}^\\infty \\frac{e^\\eta \\eta^{k}}{k!} =\\eta \\sum_{k=0}^\\infty P(k) = \\eta $$\\\n",
    "\n",
    "$$ E(k^2) = \\sum_{k=0}^\\infty k^2 P(k) = \\sum_{k=0}^\\infty \\frac{ (k^2 - k )e^\\eta \\eta^k}{k!}  + \\sum_{k=0}^\\infty \\frac{ k e^\\eta \\eta^k}{k!}  =\\sum_{k=0}^\\infty \\frac{ (k^2 - k )e^\\eta \\eta^k}{k!}  + \\eta  = 0 + 0 + \\sum_{k=2}^\\infty \\frac{ (k^2 - k )e^\\eta \\eta^k}{k!} +\\eta = \\sum_{k=2}^\\infty \\frac{e^\\eta \\eta^k}{(k-2)!} +\\eta =  $$\n",
    "\n",
    "$$ \\eta^2\\sum_{k=2}^\\infty \\frac{e^\\eta \\eta^{k-2}}{(k-2)!} +\\eta = \\eta^2\\sum_{k=0}^\\infty \\frac{e^\\eta \\eta^{k}}{k!} +\\eta =  \\eta^2\\sum_{k=0}^\\infty P(k) +\\eta =  = \\eta^2 + \\eta$$\n",
    "\n",
    "$$ Var(k) = E(k^2) - (E(k))^2 = \\eta = \\langle k \\rangle$$"
   ]
  },
  {
   "cell_type": "markdown",
   "metadata": {},
   "source": [
    "## 5.2"
   ]
  },
  {
   "cell_type": "code",
   "execution_count": 4,
   "metadata": {},
   "outputs": [
    {
     "data": {
      "text/plain": [
       "[<matplotlib.lines.Line2D at 0x16d5a066640>]"
      ]
     },
     "execution_count": 4,
     "metadata": {},
     "output_type": "execute_result"
    },
    {
     "data": {
      "image/png": "[encoded data removed]",
      "text/plain": [
       "<Figure size 432x288 with 1 Axes>"
      ]
     },
     "metadata": {
      "needs_background": "light"
     },
     "output_type": "display_data"
    }
   ],
   "source": [
    "N = 100\n",
    "def clust_coef_simulation_ER(p: float, M=10) -> float:\n",
    "    \"\"\"For a given probabilty p, generates M Erdos Renyi graphs and computes the average of their average clustering coefficent\"\"\"\n",
    "    result = 0\n",
    "    for _ in range(M):\n",
    "        G = nx.generators.erdos_renyi_graph(N, p)\n",
    "        result += nx.average_clustering(G)\n",
    "    return result/M\n",
    "\n",
    "X = np.linspace(0, 1, 20)\n",
    "Y = [clust_coef_simulation_ER(p) for p in X]\n",
    "plt.plot(X, Y)\n"
   ]
  },
  {
   "cell_type": "markdown",
   "metadata": {},
   "source": [
    "## 5.4"
   ]
  },
  {
   "cell_type": "code",
   "execution_count": 6,
   "metadata": {},
   "outputs": [
    {
     "data": {
      "text/plain": [
       "[<matplotlib.lines.Line2D at 0x16d57668130>]"
      ]
     },
     "execution_count": 6,
     "metadata": {},
     "output_type": "execute_result"
    },
    {
     "data": {
      "image/png": "[encoded data removed]",
      "text/plain": [
       "<Figure size 432x288 with 1 Axes>"
      ]
     },
     "metadata": {
      "needs_background": "light"
     },
     "output_type": "display_data"
    }
   ],
   "source": [
    "def clust_coef_simulation_WS(p: float, M=30, k=4) -> float:\n",
    "    \"\"\"For a given probabilty p, generates M Watts Strogatz graphs and computes the average of their clustering coefficent\"\"\"\n",
    "    result = 0\n",
    "    for _ in range(M):\n",
    "        G = nx.generators.random_graphs.connected_watts_strogatz_graph(N, k, p)\n",
    "        result += nx.average_clustering(G)\n",
    "    return result/M\n",
    "\n",
    "X = np.linspace(0,1,50)\n",
    "Y = [clust_coef_simulation_WS(p) for p in X]\n",
    "plt.plot(X, Y)"
   ]
  },
  {
   "cell_type": "code",
   "execution_count": null,
   "metadata": {},
   "outputs": [],
   "source": []
  }
 ],
 "metadata": {
  "kernelspec": {
   "display_name": "AML_log_regression_optimization",
   "language": "python",
   "name": "aml_log_regression_optimization"
  },
  "language_info": {
   "codemirror_mode": {
    "name": "ipython",
    "version": 3
   },
   "file_extension": ".py",
   "mimetype": "text/x-python",
   "name": "python",
   "nbconvert_exporter": "python",
   "pygments_lexer": "ipython3",
   "version": "3.8.8"
  }
 },
 "nbformat": 4,
 "nbformat_minor": 4
}
